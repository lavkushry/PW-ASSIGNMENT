{
 "cells": [
  {
   "cell_type": "code",
   "execution_count": 1,
   "id": "06ef7cc2-ef67-4998-8960-e8745c4a4a0b",
   "metadata": {},
   "outputs": [],
   "source": [
    "#Q1. Create a function which will take a list as an argument and return the product of all the numbers\n",
    "#after creating a flat list.\n",
    "#Use the below-given list as an argument for your function."
   ]
  },
  {
   "cell_type": "code",
   "execution_count": 28,
   "id": "01e64e9c-2325-426f-b86c-b83948386d02",
   "metadata": {},
   "outputs": [
    {
     "name": "stdout",
     "output_type": "stream",
     "text": [
      "4134711838987085478833841242112000\n"
     ]
    }
   ],
   "source": [
    "def product_of_numbers(lst):\n",
    "    flat_list = []\n",
    "    \n",
    "    def flatten(lst):\n",
    "        for item in lst:\n",
    "            if type(item) == int:\n",
    "                flat_list.append(item)\n",
    "            elif type(item) == float:\n",
    "                flat_list.append(item)\n",
    "            elif type(item) == list:\n",
    "                flatten(item)\n",
    "            elif type(item) == tuple:\n",
    "                flatten(item)\n",
    "            elif type(item) == dict:\n",
    "                for key, value in item.items():\n",
    "                    if type(key) == int or type(key) == float:\n",
    "                        flat_list.append(key)\n",
    "                    if type(value) == int or type(value) == float:\n",
    "                        flat_list.append(value)\n",
    "                    elif type(value) in [list, tuple, dict, set]:\n",
    "                        flatten(value)\n",
    "            elif type(item) == set:\n",
    "                flatten(item)\n",
    "    \n",
    "    flatten(lst)\n",
    "    product = 1\n",
    "    for num in flat_list:\n",
    "        product *= num\n",
    "    return product\n",
    "\n",
    "list1 = [1,2,3,4, [44,55,66, True], False, (34,56,78,89,34), {1,2,3,3,2,1}, {1:34, \"key2\": [55, 67, 78, 89], 4: (45,\n",
    "22, 61, 34)}, [56, 'data science'], 'Machine Learning']\n",
    "print(product_of_numbers(list1))\n"
   ]
  },
  {
   "cell_type": "code",
   "execution_count": 29,
   "id": "338e48bb-2788-4596-b357-d4ecaedc5053",
   "metadata": {},
   "outputs": [],
   "source": [
    "#Q2. Write a python program for encrypting a message sent to you by your friend. The logic of encryption\n",
    "#should be such that, for a the output should be z. For b, the output should be y. For c, the output should\n",
    "#be x respectively. Also, the whitespace should be replaced with a dollar sign. Keep the punctuation\n",
    "#marks unchanged."
   ]
  },
  {
   "cell_type": "code",
   "execution_count": 31,
   "id": "6ac6e5e6-c059-45f1-975a-d503fd6970dc",
   "metadata": {},
   "outputs": [],
   "source": [
    "sen=\"I want to become a Data Scientist.\""
   ]
  },
  {
   "cell_type": "code",
   "execution_count": 44,
   "id": "1b310e8a-e45e-4a42-af1e-79f6a3b60f15",
   "metadata": {},
   "outputs": [],
   "source": [
    "def encrypt_msg(line):\n",
    "        line=line.lower()\n",
    "        alphabet=\"abcdefghijklmnopqrstuvwxyz\"\n",
    "        encrypted=\"\"\n",
    "        \n",
    "        for char in line:\n",
    "            if char ==\" \":\n",
    "                encrypted +=\"$\"\n",
    "            elif char in alphabet:\n",
    "                index=alphabet.index(char)\n",
    "                encrypted += alphabet[25-index]\n",
    "            else:\n",
    "                encrypted+=char\n",
    "        return encrypted"
   ]
  },
  {
   "cell_type": "code",
   "execution_count": 45,
   "id": "8fea9353-0223-4474-a2d3-6d815c2fe394",
   "metadata": {},
   "outputs": [
    {
     "data": {
      "text/plain": [
       "'r$dzmg$gl$yvxlnv$z$wzgz$hxrvmgrhg.'"
      ]
     },
     "execution_count": 45,
     "metadata": {},
     "output_type": "execute_result"
    }
   ],
   "source": [
    "\n",
    "encrypt_msg(sen)"
   ]
  },
  {
   "cell_type": "code",
   "execution_count": null,
   "id": "a4378ded-3588-440d-af6b-000f627d0848",
   "metadata": {},
   "outputs": [],
   "source": []
  }
 ],
 "metadata": {
  "kernelspec": {
   "display_name": "Python 3 (ipykernel)",
   "language": "python",
   "name": "python3"
  },
  "language_info": {
   "codemirror_mode": {
    "name": "ipython",
    "version": 3
   },
   "file_extension": ".py",
   "mimetype": "text/x-python",
   "name": "python",
   "nbconvert_exporter": "python",
   "pygments_lexer": "ipython3",
   "version": "3.10.8"
  }
 },
 "nbformat": 4,
 "nbformat_minor": 5
}
